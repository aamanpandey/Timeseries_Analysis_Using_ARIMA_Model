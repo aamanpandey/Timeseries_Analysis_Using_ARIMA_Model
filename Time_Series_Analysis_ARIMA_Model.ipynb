{
  "nbformat": 4,
  "nbformat_minor": 0,
  "metadata": {
    "colab": {
      "name": "Time Series Analysis_ARIMA Model.ipynb",
      "provenance": [],
      "toc_visible": true
    },
    "kernelspec": {
      "name": "python3",
      "display_name": "Python 3"
    }
  },
  "cells": [
    {
      "cell_type": "code",
      "metadata": {
        "id": "LF9dnkmVbJHt",
        "colab_type": "code",
        "colab": {}
      },
      "source": [
        "import pandas as pd\n",
        "import numpy as np\n",
        "import matplotlib.pyplot as plt\n",
        "%matplotlib inline\n"
      ],
      "execution_count": 1,
      "outputs": []
    },
    {
      "cell_type": "code",
      "metadata": {
        "id": "iYcn4z4LbeL9",
        "colab_type": "code",
        "colab": {}
      },
      "source": [
        "data = pd.read_csv('/content/sales-of-shampoo-over-a-three-ye.csv', index_col=[0], parse_dates=True, squeeze=True)"
      ],
      "execution_count": 2,
      "outputs": []
    },
    {
      "cell_type": "code",
      "metadata": {
        "id": "b2igSFkNeXGh",
        "colab_type": "code",
        "colab": {
          "base_uri": "https://localhost:8080/",
          "height": 35
        },
        "outputId": "da73aaa6-72b2-4379-c96b-b9b91e2f07e7"
      },
      "source": [
        "type(data)"
      ],
      "execution_count": 3,
      "outputs": [
        {
          "output_type": "execute_result",
          "data": {
            "text/plain": [
              "pandas.core.series.Series"
            ]
          },
          "metadata": {
            "tags": []
          },
          "execution_count": 3
        }
      ]
    },
    {
      "cell_type": "code",
      "metadata": {
        "id": "LjlGRAHCcfEg",
        "colab_type": "code",
        "colab": {
          "base_uri": "https://localhost:8080/",
          "height": 139
        },
        "outputId": "02df4101-a81f-4e7b-c3e9-be3de26fbb65"
      },
      "source": [
        "data.head()"
      ],
      "execution_count": 4,
      "outputs": [
        {
          "output_type": "execute_result",
          "data": {
            "text/plain": [
              "Month\n",
              "1-01    266.0\n",
              "1-02    145.9\n",
              "1-03    183.1\n",
              "1-04    119.3\n",
              "1-05    180.3\n",
              "Name: Sales of shampoo over a three year period, dtype: float64"
            ]
          },
          "metadata": {
            "tags": []
          },
          "execution_count": 4
        }
      ]
    },
    {
      "cell_type": "code",
      "metadata": {
        "id": "E31eI2XxcgpX",
        "colab_type": "code",
        "colab": {
          "base_uri": "https://localhost:8080/",
          "height": 139
        },
        "outputId": "a0b82281-53d8-4348-b815-2e3f7093b7d9"
      },
      "source": [
        "data.tail()"
      ],
      "execution_count": 5,
      "outputs": [
        {
          "output_type": "execute_result",
          "data": {
            "text/plain": [
              "Month\n",
              "3-09                                         682.0\n",
              "3-10                                         475.3\n",
              "3-11                                         581.3\n",
              "3-12                                         646.9\n",
              "Sales of shampoo over a three year period      NaN\n",
              "Name: Sales of shampoo over a three year period, dtype: float64"
            ]
          },
          "metadata": {
            "tags": []
          },
          "execution_count": 5
        }
      ]
    },
    {
      "cell_type": "code",
      "metadata": {
        "id": "MpF0NfHdTt7x",
        "colab_type": "code",
        "colab": {}
      },
      "source": [
        "data=data[:36]"
      ],
      "execution_count": 6,
      "outputs": []
    },
    {
      "cell_type": "code",
      "metadata": {
        "id": "rwiSnV44T3Gl",
        "colab_type": "code",
        "colab": {
          "base_uri": "https://localhost:8080/",
          "height": 139
        },
        "outputId": "2826d481-6e04-4061-a6f4-8e8f8ef6e1b9"
      },
      "source": [
        "data.tail()"
      ],
      "execution_count": 7,
      "outputs": [
        {
          "output_type": "execute_result",
          "data": {
            "text/plain": [
              "Month\n",
              "3-08    407.6\n",
              "3-09    682.0\n",
              "3-10    475.3\n",
              "3-11    581.3\n",
              "3-12    646.9\n",
              "Name: Sales of shampoo over a three year period, dtype: float64"
            ]
          },
          "metadata": {
            "tags": []
          },
          "execution_count": 7
        }
      ]
    },
    {
      "cell_type": "code",
      "metadata": {
        "id": "H5_5nBSacmE7",
        "colab_type": "code",
        "colab": {
          "base_uri": "https://localhost:8080/",
          "height": 297
        },
        "outputId": "15f458f7-f4b6-4bd3-93f5-3864fccaef7e"
      },
      "source": [
        "data.plot()"
      ],
      "execution_count": 8,
      "outputs": [
        {
          "output_type": "execute_result",
          "data": {
            "text/plain": [
              "<matplotlib.axes._subplots.AxesSubplot at 0x7f0f1f688710>"
            ]
          },
          "metadata": {
            "tags": []
          },
          "execution_count": 8
        },
        {
          "output_type": "display_data",
          "data": {
            "image/png": "[encoded data removed]",
            "text/plain": [
              "<Figure size 432x288 with 1 Axes>"
            ]
          },
          "metadata": {
            "tags": [],
            "needs_background": "light"
          }
        }
      ]
    },
    {
      "cell_type": "code",
      "metadata": {
        "id": "kLDPFYVZeRUp",
        "colab_type": "code",
        "colab": {
          "base_uri": "https://localhost:8080/",
          "height": 35
        },
        "outputId": "58668f0e-1584-404f-8d28-521190239d23"
      },
      "source": [
        "data.size\n"
      ],
      "execution_count": 9,
      "outputs": [
        {
          "output_type": "execute_result",
          "data": {
            "text/plain": [
              "36"
            ]
          },
          "metadata": {
            "tags": []
          },
          "execution_count": 9
        }
      ]
    },
    {
      "cell_type": "code",
      "metadata": {
        "id": "m4FiNYO0Thlr",
        "colab_type": "code",
        "colab": {
          "base_uri": "https://localhost:8080/",
          "height": 173
        },
        "outputId": "787689ad-31cc-4e51-a97e-a4d82bb3edd1"
      },
      "source": [
        "data.describe()"
      ],
      "execution_count": 10,
      "outputs": [
        {
          "output_type": "execute_result",
          "data": {
            "text/plain": [
              "count     36.000000\n",
              "mean     312.600000\n",
              "std      148.937164\n",
              "min      119.300000\n",
              "25%      192.450000\n",
              "50%      280.150000\n",
              "75%      411.100000\n",
              "max      682.000000\n",
              "Name: Sales of shampoo over a three year period, dtype: float64"
            ]
          },
          "metadata": {
            "tags": []
          },
          "execution_count": 10
        }
      ]
    },
    {
      "cell_type": "code",
      "metadata": {
        "id": "557JWBTVUNlw",
        "colab_type": "code",
        "colab": {}
      },
      "source": [
        "#We are smoothing the data\n",
        "data_ma = data.rolling(window=10).mean()"
      ],
      "execution_count": 11,
      "outputs": []
    },
    {
      "cell_type": "code",
      "metadata": {
        "id": "XofwFRXUZrM-",
        "colab_type": "code",
        "colab": {
          "base_uri": "https://localhost:8080/",
          "height": 297
        },
        "outputId": "01eabe37-0de0-472f-d7b9-04c3d36b2045"
      },
      "source": [
        "data_ma.plot()"
      ],
      "execution_count": 12,
      "outputs": [
        {
          "output_type": "execute_result",
          "data": {
            "text/plain": [
              "<matplotlib.axes._subplots.AxesSubplot at 0x7f0f1f56c588>"
            ]
          },
          "metadata": {
            "tags": []
          },
          "execution_count": 12
        },
        {
          "output_type": "display_data",
          "data": {
            "image/png": "[encoded data removed]",
            "text/plain": [
              "<Figure size 432x288 with 1 Axes>"
            ]
          },
          "metadata": {
            "tags": [],
            "needs_background": "light"
          }
        }
      ]
    },
    {
      "cell_type": "code",
      "metadata": {
        "id": "BNVrq0kxZvPM",
        "colab_type": "code",
        "colab": {}
      },
      "source": [
        "#Baseline (Naive) Model\n",
        " "
      ],
      "execution_count": 13,
      "outputs": []
    },
    {
      "cell_type": "code",
      "metadata": {
        "id": "wdOBPeH3aEto",
        "colab_type": "code",
        "colab": {}
      },
      "source": [
        "data_base = pd.concat([data, data.shift(1)], axis=1)"
      ],
      "execution_count": 14,
      "outputs": []
    },
    {
      "cell_type": "code",
      "metadata": {
        "id": "E2eN68zWb0Iv",
        "colab_type": "code",
        "colab": {
          "base_uri": "https://localhost:8080/",
          "height": 233
        },
        "outputId": "29893ed0-4bda-4718-b7d4-4be86733d032"
      },
      "source": [
        "data_base.head()"
      ],
      "execution_count": 15,
      "outputs": [
        {
          "output_type": "execute_result",
          "data": {
            "text/html": [
              "<div>\n",
              "<style scoped>\n",
              "    .dataframe tbody tr th:only-of-type {\n",
              "        vertical-align: middle;\n",
              "    }\n",
              "\n",
              "    .dataframe tbody tr th {\n",
              "        vertical-align: top;\n",
              "    }\n",
              "\n",
              "    .dataframe thead th {\n",
              "        text-align: right;\n",
              "    }\n",
              "</style>\n",
              "<table border=\"1\" class=\"dataframe\">\n",
              "  <thead>\n",
              "    <tr style=\"text-align: right;\">\n",
              "      <th></th>\n",
              "      <th>Sales of shampoo over a three year period</th>\n",
              "      <th>Sales of shampoo over a three year period</th>\n",
              "    </tr>\n",
              "    <tr>\n",
              "      <th>Month</th>\n",
              "      <th></th>\n",
              "      <th></th>\n",
              "    </tr>\n",
              "  </thead>\n",
              "  <tbody>\n",
              "    <tr>\n",
              "      <th>1-01</th>\n",
              "      <td>266.0</td>\n",
              "      <td>NaN</td>\n",
              "    </tr>\n",
              "    <tr>\n",
              "      <th>1-02</th>\n",
              "      <td>145.9</td>\n",
              "      <td>266.0</td>\n",
              "    </tr>\n",
              "    <tr>\n",
              "      <th>1-03</th>\n",
              "      <td>183.1</td>\n",
              "      <td>145.9</td>\n",
              "    </tr>\n",
              "    <tr>\n",
              "      <th>1-04</th>\n",
              "      <td>119.3</td>\n",
              "      <td>183.1</td>\n",
              "    </tr>\n",
              "    <tr>\n",
              "      <th>1-05</th>\n",
              "      <td>180.3</td>\n",
              "      <td>119.3</td>\n",
              "    </tr>\n",
              "  </tbody>\n",
              "</table>\n",
              "</div>"
            ],
            "text/plain": [
              "       Sales of shampoo over a three year period  Sales of shampoo over a three year period\n",
              "Month                                                                                      \n",
              "1-01                                       266.0                                        NaN\n",
              "1-02                                       145.9                                      266.0\n",
              "1-03                                       183.1                                      145.9\n",
              "1-04                                       119.3                                      183.1\n",
              "1-05                                       180.3                                      119.3"
            ]
          },
          "metadata": {
            "tags": []
          },
          "execution_count": 15
        }
      ]
    },
    {
      "cell_type": "code",
      "metadata": {
        "id": "neGf4v7mb-hS",
        "colab_type": "code",
        "colab": {}
      },
      "source": [
        "data_base.columns=['Actual_Sales', 'Forecast_Sales']"
      ],
      "execution_count": 16,
      "outputs": []
    },
    {
      "cell_type": "code",
      "metadata": {
        "id": "k9FDZ78wcCzy",
        "colab_type": "code",
        "colab": {
          "base_uri": "https://localhost:8080/",
          "height": 233
        },
        "outputId": "a7bc1d10-73f9-424d-9255-ea657e1c950b"
      },
      "source": [
        "data_base.head()"
      ],
      "execution_count": 17,
      "outputs": [
        {
          "output_type": "execute_result",
          "data": {
            "text/html": [
              "<div>\n",
              "<style scoped>\n",
              "    .dataframe tbody tr th:only-of-type {\n",
              "        vertical-align: middle;\n",
              "    }\n",
              "\n",
              "    .dataframe tbody tr th {\n",
              "        vertical-align: top;\n",
              "    }\n",
              "\n",
              "    .dataframe thead th {\n",
              "        text-align: right;\n",
              "    }\n",
              "</style>\n",
              "<table border=\"1\" class=\"dataframe\">\n",
              "  <thead>\n",
              "    <tr style=\"text-align: right;\">\n",
              "      <th></th>\n",
              "      <th>Actual_Sales</th>\n",
              "      <th>Forecast_Sales</th>\n",
              "    </tr>\n",
              "    <tr>\n",
              "      <th>Month</th>\n",
              "      <th></th>\n",
              "      <th></th>\n",
              "    </tr>\n",
              "  </thead>\n",
              "  <tbody>\n",
              "    <tr>\n",
              "      <th>1-01</th>\n",
              "      <td>266.0</td>\n",
              "      <td>NaN</td>\n",
              "    </tr>\n",
              "    <tr>\n",
              "      <th>1-02</th>\n",
              "      <td>145.9</td>\n",
              "      <td>266.0</td>\n",
              "    </tr>\n",
              "    <tr>\n",
              "      <th>1-03</th>\n",
              "      <td>183.1</td>\n",
              "      <td>145.9</td>\n",
              "    </tr>\n",
              "    <tr>\n",
              "      <th>1-04</th>\n",
              "      <td>119.3</td>\n",
              "      <td>183.1</td>\n",
              "    </tr>\n",
              "    <tr>\n",
              "      <th>1-05</th>\n",
              "      <td>180.3</td>\n",
              "      <td>119.3</td>\n",
              "    </tr>\n",
              "  </tbody>\n",
              "</table>\n",
              "</div>"
            ],
            "text/plain": [
              "       Actual_Sales  Forecast_Sales\n",
              "Month                              \n",
              "1-01          266.0             NaN\n",
              "1-02          145.9           266.0\n",
              "1-03          183.1           145.9\n",
              "1-04          119.3           183.1\n",
              "1-05          180.3           119.3"
            ]
          },
          "metadata": {
            "tags": []
          },
          "execution_count": 17
        }
      ]
    },
    {
      "cell_type": "code",
      "metadata": {
        "id": "lyvDKZDBcaDA",
        "colab_type": "code",
        "colab": {}
      },
      "source": [
        "data_base.dropna(inplace=True)"
      ],
      "execution_count": 18,
      "outputs": []
    },
    {
      "cell_type": "code",
      "metadata": {
        "id": "wNjQqdSFcltl",
        "colab_type": "code",
        "colab": {}
      },
      "source": [
        "from sklearn.metrics import mean_squared_error\n",
        "import numpy as np"
      ],
      "execution_count": 19,
      "outputs": []
    },
    {
      "cell_type": "code",
      "metadata": {
        "id": "qTcZIW6bc5ND",
        "colab_type": "code",
        "colab": {}
      },
      "source": [
        "data_error = mean_squared_error(data_base.Actual_Sales, data_base.Forecast_Sales)"
      ],
      "execution_count": 20,
      "outputs": []
    },
    {
      "cell_type": "code",
      "metadata": {
        "id": "kAjUlaGidQEi",
        "colab_type": "code",
        "colab": {
          "base_uri": "https://localhost:8080/",
          "height": 35
        },
        "outputId": "aa09a44e-4740-4023-c154-0d532504e971"
      },
      "source": [
        "data_error"
      ],
      "execution_count": 21,
      "outputs": [
        {
          "output_type": "execute_result",
          "data": {
            "text/plain": [
              "11715.388285714285"
            ]
          },
          "metadata": {
            "tags": []
          },
          "execution_count": 21
        }
      ]
    },
    {
      "cell_type": "code",
      "metadata": {
        "id": "np2qZOt2dRu6",
        "colab_type": "code",
        "colab": {
          "base_uri": "https://localhost:8080/",
          "height": 35
        },
        "outputId": "587eec08-ccb2-496f-f52d-960d67ac687b"
      },
      "source": [
        "np.sqrt(data_error)"
      ],
      "execution_count": 22,
      "outputs": [
        {
          "output_type": "execute_result",
          "data": {
            "text/plain": [
              "108.23764726616282"
            ]
          },
          "metadata": {
            "tags": []
          },
          "execution_count": 22
        }
      ]
    },
    {
      "cell_type": "code",
      "metadata": {
        "id": "-z4MKwUsdcNa",
        "colab_type": "code",
        "colab": {
          "base_uri": "https://localhost:8080/",
          "height": 72
        },
        "outputId": "fc86fbc7-59dd-487e-bc58-7b497cd9ee99"
      },
      "source": [
        "from statsmodels.graphics.tsaplots import plot_acf, plot_pacf"
      ],
      "execution_count": 23,
      "outputs": [
        {
          "output_type": "stream",
          "text": [
            "/usr/local/lib/python3.6/dist-packages/statsmodels/tools/_testing.py:19: FutureWarning: pandas.util.testing is deprecated. Use the functions in the public API at pandas.testing instead.\n",
            "  import pandas.util.testing as tm\n"
          ],
          "name": "stderr"
        }
      ]
    },
    {
      "cell_type": "code",
      "metadata": {
        "id": "EfSUxb1neSa8",
        "colab_type": "code",
        "colab": {
          "base_uri": "https://localhost:8080/",
          "height": 545
        },
        "outputId": "b14cc834-09a2-48c8-9e4e-30cb2f997d07"
      },
      "source": [
        "plot_acf(data)"
      ],
      "execution_count": 24,
      "outputs": [
        {
          "output_type": "execute_result",
          "data": {
            "image/png": "[encoded data removed]",
            "text/plain": [
              "<Figure size 432x288 with 1 Axes>"
            ]
          },
          "metadata": {
            "tags": []
          },
          "execution_count": 24
        },
        {
          "output_type": "display_data",
          "data": {
            "image/png": "[encoded data removed]",
            "text/plain": [
              "<Figure size 432x288 with 1 Axes>"
            ]
          },
          "metadata": {
            "tags": [],
            "needs_background": "light"
          }
        }
      ]
    },
    {
      "cell_type": "markdown",
      "metadata": {
        "id": "ZERJbH-Ge2-y",
        "colab_type": "text"
      },
      "source": [
        "#Q=3 based on the graph above"
      ]
    },
    {
      "cell_type": "code",
      "metadata": {
        "id": "WHgE6e0fe6m8",
        "colab_type": "code",
        "colab": {
          "base_uri": "https://localhost:8080/",
          "height": 545
        },
        "outputId": "6099729e-3463-4564-ad1e-aad036d89f25"
      },
      "source": [
        "plot_pacf(data)"
      ],
      "execution_count": 25,
      "outputs": [
        {
          "output_type": "execute_result",
          "data": {
            "image/png": "[encoded data removed]",
            "text/plain": [
              "<Figure size 432x288 with 1 Axes>"
            ]
          },
          "metadata": {
            "tags": []
          },
          "execution_count": 25
        },
        {
          "output_type": "display_data",
          "data": {
            "image/png": "[encoded data removed]",
            "text/plain": [
              "<Figure size 432x288 with 1 Axes>"
            ]
          },
          "metadata": {
            "tags": [],
            "needs_background": "light"
          }
        }
      ]
    },
    {
      "cell_type": "markdown",
      "metadata": {
        "id": "mkBx52NFfFkE",
        "colab_type": "text"
      },
      "source": [
        "P=2"
      ]
    },
    {
      "cell_type": "code",
      "metadata": {
        "id": "oCxbN7R5fHBg",
        "colab_type": "code",
        "colab": {}
      },
      "source": [
        "from statsmodels.tsa.arima_model import ARIMA"
      ],
      "execution_count": 26,
      "outputs": []
    },
    {
      "cell_type": "code",
      "metadata": {
        "id": "V03Y0xQPfXHP",
        "colab_type": "code",
        "colab": {}
      },
      "source": [
        "train= data[0:25]\n",
        "test= data[25:36]"
      ],
      "execution_count": 27,
      "outputs": []
    },
    {
      "cell_type": "code",
      "metadata": {
        "id": "2OvK5LxAfhx9",
        "colab_type": "code",
        "colab": {
          "base_uri": "https://localhost:8080/",
          "height": 107
        },
        "outputId": "cf51ba66-d27f-443e-98a5-81ef98ef3f90"
      },
      "source": [
        "model= ARIMA(train, order= (3,1,2))"
      ],
      "execution_count": 28,
      "outputs": [
        {
          "output_type": "stream",
          "text": [
            "/usr/local/lib/python3.6/dist-packages/statsmodels/tsa/base/tsa_model.py:215: ValueWarning: An unsupported index was provided and will be ignored when e.g. forecasting.\n",
            "  ' ignored when e.g. forecasting.', ValueWarning)\n",
            "/usr/local/lib/python3.6/dist-packages/statsmodels/tsa/base/tsa_model.py:215: ValueWarning: An unsupported index was provided and will be ignored when e.g. forecasting.\n",
            "  ' ignored when e.g. forecasting.', ValueWarning)\n"
          ],
          "name": "stderr"
        }
      ]
    },
    {
      "cell_type": "code",
      "metadata": {
        "id": "Cf_1XvK0f3S4",
        "colab_type": "code",
        "colab": {}
      },
      "source": [
        "model_fit= model.fit()"
      ],
      "execution_count": 29,
      "outputs": []
    },
    {
      "cell_type": "code",
      "metadata": {
        "id": "1vP38C_JgBl_",
        "colab_type": "code",
        "colab": {
          "base_uri": "https://localhost:8080/",
          "height": 35
        },
        "outputId": "9d03b2af-a8f7-461b-f2b3-96180bf8b00e"
      },
      "source": [
        "model_fit.aic"
      ],
      "execution_count": 30,
      "outputs": [
        {
          "output_type": "execute_result",
          "data": {
            "text/plain": [
              "272.38919480712286"
            ]
          },
          "metadata": {
            "tags": []
          },
          "execution_count": 30
        }
      ]
    },
    {
      "cell_type": "code",
      "metadata": {
        "id": "JbgeiZeIge42",
        "colab_type": "code",
        "colab": {}
      },
      "source": [
        "data_forecast= model_fit.forecast(steps=11)[0]"
      ],
      "execution_count": 31,
      "outputs": []
    },
    {
      "cell_type": "code",
      "metadata": {
        "id": "X5iNniCSgrew",
        "colab_type": "code",
        "colab": {
          "base_uri": "https://localhost:8080/",
          "height": 69
        },
        "outputId": "10ca6299-3e68-4f88-9bcd-2e3ec2e5efaa"
      },
      "source": [
        "data_forecast"
      ],
      "execution_count": 32,
      "outputs": [
        {
          "output_type": "execute_result",
          "data": {
            "text/plain": [
              "array([411.99808685, 364.11848926, 359.3947626 , 351.27889823,\n",
              "       406.97150833, 418.33290706, 411.19332431, 385.83423317,\n",
              "       405.32980473, 435.87741384, 454.17127706])"
            ]
          },
          "metadata": {
            "tags": []
          },
          "execution_count": 32
        }
      ]
    },
    {
      "cell_type": "code",
      "metadata": {
        "id": "L6tYq_ZEgynp",
        "colab_type": "code",
        "colab": {
          "base_uri": "https://localhost:8080/",
          "height": 35
        },
        "outputId": "47eee329-b323-4a4b-d5a5-431548d6c018"
      },
      "source": [
        "#Error\n",
        "np.sqrt(mean_squared_error(test, data_forecast))"
      ],
      "execution_count": 33,
      "outputs": [
        {
          "output_type": "execute_result",
          "data": {
            "text/plain": [
              "130.92712338984404"
            ]
          },
          "metadata": {
            "tags": []
          },
          "execution_count": 33
        }
      ]
    },
    {
      "cell_type": "markdown",
      "metadata": {
        "id": "A04BiM1ahHtW",
        "colab_type": "text"
      },
      "source": [
        "If we compare it with the base model we can see that base model error rate is better then this model"
      ]
    },
    {
      "cell_type": "code",
      "metadata": {
        "id": "-uAFDacohsDN",
        "colab_type": "code",
        "colab": {}
      },
      "source": [
        "p_values= range(0,5)\n",
        "d_values = range(0,5)\n",
        "q_values = range(0,5)"
      ],
      "execution_count": 34,
      "outputs": []
    },
    {
      "cell_type": "code",
      "metadata": {
        "id": "Qh2zp9v0h4MA",
        "colab_type": "code",
        "colab": {}
      },
      "source": [
        "import warnings\n",
        "warnings.filterwarnings(\"ignore\")"
      ],
      "execution_count": 35,
      "outputs": []
    },
    {
      "cell_type": "code",
      "metadata": {
        "id": "khZHR2GBhEHx",
        "colab_type": "code",
        "colab": {
          "base_uri": "https://localhost:8080/",
          "height": 815
        },
        "outputId": "b82a9b35-7a9a-4a0d-834d-f6fb11c579dc"
      },
      "source": [
        "for p in p_values:\n",
        "    for d in d_values:\n",
        "        for q in q_values:\n",
        "            order=(p,d,q)\n",
        "            train, test = data[0:25], data[25:36]\n",
        "            prediction= list()\n",
        "            \n",
        "            for i in range(len(test)):\n",
        "                try:\n",
        "                  \n",
        "                  model= ARIMA(train, order)\n",
        "                  model_fit = model.fit(disp=0)\n",
        "                  pred_y = model_fit.forecast()[0]\n",
        "                  prediction.append(pred_y)\n",
        "                  error = mean_squared_error(test, prediction)\n",
        "                  print('ARIMA%s MSE = %.2f'% (order, error))\n",
        "                except:\n",
        "                  continue"
      ],
      "execution_count": 36,
      "outputs": [
        {
          "output_type": "stream",
          "text": [
            "ARIMA(0, 0, 0) MSE = 77950.15\n",
            "ARIMA(0, 0, 1) MSE = 70119.33\n",
            "ARIMA(0, 0, 2) MSE = 58566.55\n",
            "ARIMA(0, 0, 3) MSE = 62031.18\n",
            "ARIMA(0, 0, 4) MSE = 30922.39\n",
            "ARIMA(0, 1, 0) MSE = 33849.87\n",
            "ARIMA(0, 1, 1) MSE = 40654.43\n",
            "ARIMA(0, 1, 2) MSE = 34511.79\n",
            "ARIMA(0, 2, 0) MSE = 34017.03\n",
            "ARIMA(0, 2, 1) MSE = 28393.09\n",
            "ARIMA(1, 0, 0) MSE = 61158.54\n",
            "ARIMA(1, 0, 1) MSE = 46528.85\n",
            "ARIMA(1, 0, 2) MSE = 43922.42\n",
            "ARIMA(1, 0, 4) MSE = 25186.17\n",
            "ARIMA(1, 1, 0) MSE = 31687.09\n",
            "ARIMA(1, 1, 1) MSE = 42176.68\n",
            "ARIMA(1, 2, 0) MSE = 18845.80\n",
            "ARIMA(1, 2, 1) MSE = 26129.54\n",
            "ARIMA(2, 0, 0) MSE = 45248.66\n",
            "ARIMA(2, 0, 1) MSE = 32171.85\n",
            "ARIMA(2, 0, 4) MSE = 28995.71\n",
            "ARIMA(2, 1, 0) MSE = 35488.35\n",
            "ARIMA(2, 1, 1) MSE = 39633.99\n",
            "ARIMA(2, 1, 2) MSE = 35884.79\n",
            "ARIMA(2, 2, 0) MSE = 34024.24\n",
            "ARIMA(3, 0, 0) MSE = 46326.54\n",
            "ARIMA(3, 0, 4) MSE = 43204.64\n",
            "ARIMA(3, 1, 0) MSE = 22024.86\n",
            "ARIMA(3, 1, 1) MSE = 22841.63\n",
            "ARIMA(3, 1, 2) MSE = 18095.37\n",
            "ARIMA(3, 1, 4) MSE = 37611.19\n",
            "ARIMA(3, 2, 0) MSE = 24695.26\n",
            "ARIMA(3, 2, 1) MSE = 16368.68\n",
            "ARIMA(3, 2, 2) MSE = 15804.22\n",
            "ARIMA(3, 2, 3) MSE = 14492.30\n",
            "ARIMA(4, 0, 0) MSE = 33232.93\n",
            "ARIMA(4, 0, 1) MSE = 33240.62\n",
            "ARIMA(4, 1, 0) MSE = 22339.38\n",
            "ARIMA(4, 1, 1) MSE = 22615.99\n",
            "ARIMA(4, 1, 2) MSE = 19179.62\n",
            "ARIMA(4, 1, 3) MSE = 20601.61\n",
            "ARIMA(4, 1, 4) MSE = 19303.92\n",
            "ARIMA(4, 2, 0) MSE = 20052.26\n",
            "ARIMA(4, 2, 1) MSE = 15572.78\n",
            "ARIMA(4, 2, 2) MSE = 17538.80\n",
            "ARIMA(4, 2, 3) MSE = 16154.16\n"
          ],
          "name": "stdout"
        }
      ]
    }
  ]
}